{
  "nbformat": 4,
  "nbformat_minor": 0,
  "metadata": {
    "colab": {
      "provenance": [],
      "authorship_tag": "ABX9TyP00CwQazOU2YCMA2mCfIjE",
      "include_colab_link": true
    },
    "kernelspec": {
      "name": "python3",
      "display_name": "Python 3"
    },
    "language_info": {
      "name": "python"
    }
  },
  "cells": [
    {
      "cell_type": "markdown",
      "metadata": {
        "id": "view-in-github",
        "colab_type": "text"
      },
      "source": [
        "<a href=\"https://colab.research.google.com/github/hsuancheyang/114-1-GenAI/blob/main/DNN.ipynb\" target=\"_parent\"><img src=\"https://colab.research.google.com/assets/colab-badge.svg\" alt=\"Open In Colab\"/></a>"
      ]
    },
    {
      "cell_type": "code",
      "execution_count": null,
      "metadata": {
        "id": "BBcb7Rf5uT-i"
      },
      "outputs": [],
      "source": [
        "from keras.models import Sequential, load_model\n",
        "from keras.layers import Dense, Dropout\n",
        "import numpy as np\n",
        "import os"
      ]
    },
    {
      "cell_type": "code",
      "source": [
        "# Training data\n",
        "train_data = np.random.rand(1000, 20)  # 1000 samples, 20 features each\n",
        "train_labels = np.random.randint(0, 1, size=(1000,))  # Binary classification (0 or 1)\n",
        "\n",
        "print(f'Training data[0~5]: \\n{train_data[0:5]}')\n",
        "print(f'Training labels[0~5]: \\n{train_labels[0:5]}')"
      ],
      "metadata": {
        "colab": {
          "base_uri": "https://localhost:8080/"
        },
        "id": "zpKQRRkSujQg",
        "outputId": "4e024d56-7f22-4b6b-de9d-e79a4e42673c"
      },
      "execution_count": null,
      "outputs": [
        {
          "output_type": "stream",
          "name": "stdout",
          "text": [
            "Training data[0~5]: \n",
            "[[0.00488181 0.44634111 0.51443806 0.44419913 0.68903658 0.83913488\n",
            "  0.98418608 0.78128434 0.39356196 0.14450047 0.79657832 0.48184753\n",
            "  0.60745568 0.94539178 0.91843881 0.30447921 0.12202712 0.25709791\n",
            "  0.06909777 0.26525639]\n",
            " [0.44191984 0.43380748 0.28256047 0.95989606 0.33548686 0.11458008\n",
            "  0.03112916 0.47969032 0.69456222 0.97620491 0.91357493 0.89248058\n",
            "  0.69231755 0.00310822 0.41285223 0.37763687 0.95818866 0.73516085\n",
            "  0.96572705 0.90805705]\n",
            " [0.35672359 0.48691912 0.97346132 0.12961169 0.25394078 0.01719174\n",
            "  0.14186021 0.79594861 0.94496173 0.56994745 0.25905745 0.35735891\n",
            "  0.21644575 0.39690042 0.99973947 0.78477332 0.73496092 0.73199789\n",
            "  0.44296372 0.77207185]\n",
            " [0.92321398 0.13688735 0.87262165 0.73062487 0.38914047 0.30769593\n",
            "  0.24553635 0.30149301 0.32232172 0.99345953 0.30909845 0.95804136\n",
            "  0.73156971 0.24807136 0.75664348 0.92302842 0.30053277 0.18203872\n",
            "  0.87762553 0.96472974]\n",
            " [0.46271222 0.07020383 0.02199013 0.42779782 0.51716322 0.45710609\n",
            "  0.11804171 0.31293387 0.3124747  0.56809471 0.0167419  0.70309151\n",
            "  0.68445979 0.37179609 0.94650771 0.44131005 0.90775726 0.11960711\n",
            "  0.10910952 0.21016994]]\n",
            "Training labels[0~5]: \n",
            "[0 0 0 0 0]\n"
          ]
        }
      ]
    },
    {
      "cell_type": "code",
      "source": [
        "# DNN model definition\n",
        "input_dim = 20  # input dimension to match synthetic data\n",
        "output_dim = 2  # output dimension for binary classification\n",
        "\n",
        "model = Sequential()\n",
        "\n",
        "# Add layers to the model\n",
        "model.add(Dense(64, activation='relu', input_shape=(input_dim,)))\n",
        "model.add(Dropout(0.5))\n",
        "model.add(Dense(32, activation='relu'))\n",
        "# Add more layers as needed\n",
        "model.add(Dense(output_dim, activation='softmax'))"
      ],
      "metadata": {
        "colab": {
          "base_uri": "https://localhost:8080/"
        },
        "id": "Gf7sbM1pumOY",
        "outputId": "442e41e5-f2db-4166-cc5f-3c23c4686ee3"
      },
      "execution_count": null,
      "outputs": [
        {
          "output_type": "stream",
          "name": "stderr",
          "text": [
            "/usr/local/lib/python3.12/dist-packages/keras/src/layers/core/dense.py:93: UserWarning: Do not pass an `input_shape`/`input_dim` argument to a layer. When using Sequential models, prefer using an `Input(shape)` object as the first layer in the model instead.\n",
            "  super().__init__(activity_regularizer=activity_regularizer, **kwargs)\n"
          ]
        }
      ]
    },
    {
      "cell_type": "code",
      "source": [
        "# Compile the model\n",
        "model.compile(\n",
        "    optimizer='adam',\n",
        "    loss='sparse_categorical_crossentropy',  # Use sparse categorical crossentropy for integer labels\n",
        "    metrics=['accuracy'])"
      ],
      "metadata": {
        "id": "OAAUEekvusVJ"
      },
      "execution_count": null,
      "outputs": []
    },
    {
      "cell_type": "code",
      "source": [
        "# Train the model\n",
        "model.fit(train_data, train_labels, epochs=10, batch_size=32)"
      ],
      "metadata": {
        "colab": {
          "base_uri": "https://localhost:8080/"
        },
        "id": "WBroTfqsuwIw",
        "outputId": "4618ccbe-8dc5-4425-8272-60f5cc6e29ec"
      },
      "execution_count": null,
      "outputs": [
        {
          "output_type": "stream",
          "name": "stdout",
          "text": [
            "Epoch 1/10\n",
            "\u001b[1m32/32\u001b[0m \u001b[32m━━━━━━━━━━━━━━━━━━━━\u001b[0m\u001b[37m\u001b[0m \u001b[1m3s\u001b[0m 6ms/step - accuracy: 0.9001 - loss: 0.4398\n",
            "Epoch 2/10\n",
            "\u001b[1m32/32\u001b[0m \u001b[32m━━━━━━━━━━━━━━━━━━━━\u001b[0m\u001b[37m\u001b[0m \u001b[1m0s\u001b[0m 8ms/step - accuracy: 1.0000 - loss: 0.0383\n",
            "Epoch 3/10\n",
            "\u001b[1m32/32\u001b[0m \u001b[32m━━━━━━━━━━━━━━━━━━━━\u001b[0m\u001b[37m\u001b[0m \u001b[1m0s\u001b[0m 6ms/step - accuracy: 1.0000 - loss: 0.0052\n",
            "Epoch 4/10\n",
            "\u001b[1m32/32\u001b[0m \u001b[32m━━━━━━━━━━━━━━━━━━━━\u001b[0m\u001b[37m\u001b[0m \u001b[1m0s\u001b[0m 9ms/step - accuracy: 1.0000 - loss: 0.0014\n",
            "Epoch 5/10\n",
            "\u001b[1m32/32\u001b[0m \u001b[32m━━━━━━━━━━━━━━━━━━━━\u001b[0m\u001b[37m\u001b[0m \u001b[1m1s\u001b[0m 5ms/step - accuracy: 1.0000 - loss: 8.3470e-04\n",
            "Epoch 6/10\n",
            "\u001b[1m32/32\u001b[0m \u001b[32m━━━━━━━━━━━━━━━━━━━━\u001b[0m\u001b[37m\u001b[0m \u001b[1m0s\u001b[0m 6ms/step - accuracy: 1.0000 - loss: 4.4138e-04\n",
            "Epoch 7/10\n",
            "\u001b[1m32/32\u001b[0m \u001b[32m━━━━━━━━━━━━━━━━━━━━\u001b[0m\u001b[37m\u001b[0m \u001b[1m0s\u001b[0m 6ms/step - accuracy: 1.0000 - loss: 3.4561e-04\n",
            "Epoch 8/10\n",
            "\u001b[1m32/32\u001b[0m \u001b[32m━━━━━━━━━━━━━━━━━━━━\u001b[0m\u001b[37m\u001b[0m \u001b[1m0s\u001b[0m 6ms/step - accuracy: 1.0000 - loss: 2.7422e-04\n",
            "Epoch 9/10\n",
            "\u001b[1m32/32\u001b[0m \u001b[32m━━━━━━━━━━━━━━━━━━━━\u001b[0m\u001b[37m\u001b[0m \u001b[1m0s\u001b[0m 5ms/step - accuracy: 1.0000 - loss: 2.3619e-04\n",
            "Epoch 10/10\n",
            "\u001b[1m32/32\u001b[0m \u001b[32m━━━━━━━━━━━━━━━━━━━━\u001b[0m\u001b[37m\u001b[0m \u001b[1m1s\u001b[0m 13ms/step - accuracy: 1.0000 - loss: 1.5043e-04\n"
          ]
        },
        {
          "output_type": "execute_result",
          "data": {
            "text/plain": [
              "<keras.src.callbacks.history.History at 0x7d213c432f60>"
            ]
          },
          "metadata": {},
          "execution_count": 5
        }
      ]
    },
    {
      "cell_type": "code",
      "source": [
        "# Save the trained model\n",
        "model_dir = 'saved_models'\n",
        "model_path = os.path.join(model_dir, 'dnn_model.h5')\n",
        "model.save(model_path)\n",
        "print(f\"模型已保存至 {model_path}\")\n",
        "\n",
        "model.summary()"
      ],
      "metadata": {
        "colab": {
          "base_uri": "https://localhost:8080/",
          "height": 335
        },
        "id": "ZFOtNts0uzFY",
        "outputId": "a2395ae5-0500-4814-db8e-ca8aa1af1af6"
      },
      "execution_count": null,
      "outputs": [
        {
          "output_type": "stream",
          "name": "stderr",
          "text": [
            "WARNING:absl:You are saving your model as an HDF5 file via `model.save()` or `keras.saving.save_model(model)`. This file format is considered legacy. We recommend using instead the native Keras format, e.g. `model.save('my_model.keras')` or `keras.saving.save_model(model, 'my_model.keras')`. \n"
          ]
        },
        {
          "output_type": "stream",
          "name": "stdout",
          "text": [
            "模型已保存至 saved_models/dnn_model.h5\n"
          ]
        },
        {
          "output_type": "display_data",
          "data": {
            "text/plain": [
              "\u001b[1mModel: \"sequential\"\u001b[0m\n"
            ],
            "text/html": [
              "<pre style=\"white-space:pre;overflow-x:auto;line-height:normal;font-family:Menlo,'DejaVu Sans Mono',consolas,'Courier New',monospace\"><span style=\"font-weight: bold\">Model: \"sequential\"</span>\n",
              "</pre>\n"
            ]
          },
          "metadata": {}
        },
        {
          "output_type": "display_data",
          "data": {
            "text/plain": [
              "┏━━━━━━━━━━━━━━━━━━━━━━━━━━━━━━━━━┳━━━━━━━━━━━━━━━━━━━━━━━━┳━━━━━━━━━━━━━━━┓\n",
              "┃\u001b[1m \u001b[0m\u001b[1mLayer (type)                   \u001b[0m\u001b[1m \u001b[0m┃\u001b[1m \u001b[0m\u001b[1mOutput Shape          \u001b[0m\u001b[1m \u001b[0m┃\u001b[1m \u001b[0m\u001b[1m      Param #\u001b[0m\u001b[1m \u001b[0m┃\n",
              "┡━━━━━━━━━━━━━━━━━━━━━━━━━━━━━━━━━╇━━━━━━━━━━━━━━━━━━━━━━━━╇━━━━━━━━━━━━━━━┩\n",
              "│ dense (\u001b[38;5;33mDense\u001b[0m)                   │ (\u001b[38;5;45mNone\u001b[0m, \u001b[38;5;34m64\u001b[0m)             │         \u001b[38;5;34m1,344\u001b[0m │\n",
              "├─────────────────────────────────┼────────────────────────┼───────────────┤\n",
              "│ dropout (\u001b[38;5;33mDropout\u001b[0m)               │ (\u001b[38;5;45mNone\u001b[0m, \u001b[38;5;34m64\u001b[0m)             │             \u001b[38;5;34m0\u001b[0m │\n",
              "├─────────────────────────────────┼────────────────────────┼───────────────┤\n",
              "│ dense_1 (\u001b[38;5;33mDense\u001b[0m)                 │ (\u001b[38;5;45mNone\u001b[0m, \u001b[38;5;34m32\u001b[0m)             │         \u001b[38;5;34m2,080\u001b[0m │\n",
              "├─────────────────────────────────┼────────────────────────┼───────────────┤\n",
              "│ dense_2 (\u001b[38;5;33mDense\u001b[0m)                 │ (\u001b[38;5;45mNone\u001b[0m, \u001b[38;5;34m2\u001b[0m)              │            \u001b[38;5;34m66\u001b[0m │\n",
              "└─────────────────────────────────┴────────────────────────┴───────────────┘\n"
            ],
            "text/html": [
              "<pre style=\"white-space:pre;overflow-x:auto;line-height:normal;font-family:Menlo,'DejaVu Sans Mono',consolas,'Courier New',monospace\">┏━━━━━━━━━━━━━━━━━━━━━━━━━━━━━━━━━┳━━━━━━━━━━━━━━━━━━━━━━━━┳━━━━━━━━━━━━━━━┓\n",
              "┃<span style=\"font-weight: bold\"> Layer (type)                    </span>┃<span style=\"font-weight: bold\"> Output Shape           </span>┃<span style=\"font-weight: bold\">       Param # </span>┃\n",
              "┡━━━━━━━━━━━━━━━━━━━━━━━━━━━━━━━━━╇━━━━━━━━━━━━━━━━━━━━━━━━╇━━━━━━━━━━━━━━━┩\n",
              "│ dense (<span style=\"color: #0087ff; text-decoration-color: #0087ff\">Dense</span>)                   │ (<span style=\"color: #00d7ff; text-decoration-color: #00d7ff\">None</span>, <span style=\"color: #00af00; text-decoration-color: #00af00\">64</span>)             │         <span style=\"color: #00af00; text-decoration-color: #00af00\">1,344</span> │\n",
              "├─────────────────────────────────┼────────────────────────┼───────────────┤\n",
              "│ dropout (<span style=\"color: #0087ff; text-decoration-color: #0087ff\">Dropout</span>)               │ (<span style=\"color: #00d7ff; text-decoration-color: #00d7ff\">None</span>, <span style=\"color: #00af00; text-decoration-color: #00af00\">64</span>)             │             <span style=\"color: #00af00; text-decoration-color: #00af00\">0</span> │\n",
              "├─────────────────────────────────┼────────────────────────┼───────────────┤\n",
              "│ dense_1 (<span style=\"color: #0087ff; text-decoration-color: #0087ff\">Dense</span>)                 │ (<span style=\"color: #00d7ff; text-decoration-color: #00d7ff\">None</span>, <span style=\"color: #00af00; text-decoration-color: #00af00\">32</span>)             │         <span style=\"color: #00af00; text-decoration-color: #00af00\">2,080</span> │\n",
              "├─────────────────────────────────┼────────────────────────┼───────────────┤\n",
              "│ dense_2 (<span style=\"color: #0087ff; text-decoration-color: #0087ff\">Dense</span>)                 │ (<span style=\"color: #00d7ff; text-decoration-color: #00d7ff\">None</span>, <span style=\"color: #00af00; text-decoration-color: #00af00\">2</span>)              │            <span style=\"color: #00af00; text-decoration-color: #00af00\">66</span> │\n",
              "└─────────────────────────────────┴────────────────────────┴───────────────┘\n",
              "</pre>\n"
            ]
          },
          "metadata": {}
        },
        {
          "output_type": "display_data",
          "data": {
            "text/plain": [
              "\u001b[1m Total params: \u001b[0m\u001b[38;5;34m10,472\u001b[0m (40.91 KB)\n"
            ],
            "text/html": [
              "<pre style=\"white-space:pre;overflow-x:auto;line-height:normal;font-family:Menlo,'DejaVu Sans Mono',consolas,'Courier New',monospace\"><span style=\"font-weight: bold\"> Total params: </span><span style=\"color: #00af00; text-decoration-color: #00af00\">10,472</span> (40.91 KB)\n",
              "</pre>\n"
            ]
          },
          "metadata": {}
        },
        {
          "output_type": "display_data",
          "data": {
            "text/plain": [
              "\u001b[1m Trainable params: \u001b[0m\u001b[38;5;34m3,490\u001b[0m (13.63 KB)\n"
            ],
            "text/html": [
              "<pre style=\"white-space:pre;overflow-x:auto;line-height:normal;font-family:Menlo,'DejaVu Sans Mono',consolas,'Courier New',monospace\"><span style=\"font-weight: bold\"> Trainable params: </span><span style=\"color: #00af00; text-decoration-color: #00af00\">3,490</span> (13.63 KB)\n",
              "</pre>\n"
            ]
          },
          "metadata": {}
        },
        {
          "output_type": "display_data",
          "data": {
            "text/plain": [
              "\u001b[1m Non-trainable params: \u001b[0m\u001b[38;5;34m0\u001b[0m (0.00 B)\n"
            ],
            "text/html": [
              "<pre style=\"white-space:pre;overflow-x:auto;line-height:normal;font-family:Menlo,'DejaVu Sans Mono',consolas,'Courier New',monospace\"><span style=\"font-weight: bold\"> Non-trainable params: </span><span style=\"color: #00af00; text-decoration-color: #00af00\">0</span> (0.00 B)\n",
              "</pre>\n"
            ]
          },
          "metadata": {}
        },
        {
          "output_type": "display_data",
          "data": {
            "text/plain": [
              "\u001b[1m Optimizer params: \u001b[0m\u001b[38;5;34m6,982\u001b[0m (27.28 KB)\n"
            ],
            "text/html": [
              "<pre style=\"white-space:pre;overflow-x:auto;line-height:normal;font-family:Menlo,'DejaVu Sans Mono',consolas,'Courier New',monospace\"><span style=\"font-weight: bold\"> Optimizer params: </span><span style=\"color: #00af00; text-decoration-color: #00af00\">6,982</span> (27.28 KB)\n",
              "</pre>\n"
            ]
          },
          "metadata": {}
        }
      ]
    },
    {
      "cell_type": "code",
      "source": [
        "#\n",
        "# Generate some synthetic test data for prediction\n",
        "#\n",
        "new_data = np.random.rand(10, 20)\n",
        "print(\"\\n新的測試數據：\")\n",
        "print(new_data)\n",
        "\n",
        "# Predict using the loaded model\n",
        "print(\"\\n開始進行預測...\")\n",
        "predictions = model.predict(new_data)\n",
        "print(\"原始預測結果 (機率分佈)：\")\n",
        "print(predictions)\n",
        "\n",
        "predicted_classes = np.argmax(predictions, axis=1) # axis=1 表示在每個樣本的機率分佈中取最大值\n",
        "print(\"\\n預測的類別標籤 (0 或 1)：\")\n",
        "print(predicted_classes)\n",
        "\n",
        "# 為了更好地理解，我們手動為每個樣本顯示預測結果\n",
        "print(\"\\n每個樣本的預測結果：\")\n",
        "for i, (prob, cls) in enumerate(zip(predictions, predicted_classes)):\n",
        "    print(f\"  樣本 {i+1}: 預測機率 = {prob}, 預測類別 = {cls}\")"
      ],
      "metadata": {
        "colab": {
          "base_uri": "https://localhost:8080/"
        },
        "id": "rR9DtRiru5y3",
        "outputId": "2d11e931-0df3-4e9b-e768-b8f7e272957d"
      },
      "execution_count": null,
      "outputs": [
        {
          "output_type": "stream",
          "name": "stdout",
          "text": [
            "\n",
            "新的測試數據：\n",
            "[[0.86856081 0.26374392 0.26979495 0.1649332  0.66131206 0.5837011\n",
            "  0.32970634 0.06415617 0.52773279 0.57175595 0.35412844 0.29522437\n",
            "  0.9974597  0.3526437  0.09710307 0.76980668 0.65828353 0.36334854\n",
            "  0.85131303 0.05858809]\n",
            " [0.47917823 0.2233521  0.51250707 0.93791218 0.02684854 0.46442078\n",
            "  0.63800412 0.971254   0.24292769 0.80413716 0.06058357 0.99528831\n",
            "  0.24507522 0.52136142 0.71804599 0.39472486 0.754942   0.24498572\n",
            "  0.45984914 0.61469651]\n",
            " [0.34540167 0.43921525 0.27427763 0.15402196 0.7358913  0.91082942\n",
            "  0.72842155 0.75678164 0.89656578 0.74173118 0.73598805 0.0279446\n",
            "  0.4555558  0.02687271 0.60482751 0.08473591 0.22215073 0.00971299\n",
            "  0.744706   0.56236758]\n",
            " [0.13561098 0.93406344 0.75862227 0.69716748 0.45575616 0.92454583\n",
            "  0.51949914 0.82438609 0.42587908 0.83333288 0.15733975 0.66029135\n",
            "  0.90533755 0.33451924 0.94933789 0.48212304 0.0250393  0.69997655\n",
            "  0.4744604  0.37673156]\n",
            " [0.89067168 0.6096744  0.72378525 0.3700729  0.95622214 0.0288934\n",
            "  0.1755571  0.63557125 0.98621941 0.23134957 0.95823318 0.93520168\n",
            "  0.65777325 0.32161485 0.65245886 0.12968038 0.42611462 0.33043774\n",
            "  0.94048625 0.81465227]\n",
            " [0.154617   0.60928813 0.27412445 0.33059078 0.74971166 0.47497015\n",
            "  0.85200597 0.92306237 0.72331194 0.14894971 0.95373305 0.2424094\n",
            "  0.51547499 0.94565622 0.06356684 0.88117868 0.32046475 0.0924915\n",
            "  0.56233485 0.10155462]\n",
            " [0.663774   0.63613832 0.95905695 0.74085865 0.14300041 0.91526328\n",
            "  0.49785596 0.84969352 0.92790282 0.8944756  0.43605781 0.98332772\n",
            "  0.540786   0.68548869 0.44093739 0.73241473 0.63879194 0.84929533\n",
            "  0.38045317 0.27036639]\n",
            " [0.74772314 0.35212152 0.81253122 0.41172236 0.64885173 0.38107939\n",
            "  0.56588501 0.32711201 0.97334585 0.54995494 0.51274917 0.64374253\n",
            "  0.82322122 0.56888699 0.96817206 0.09350755 0.87514391 0.39927336\n",
            "  0.77674539 0.3450422 ]\n",
            " [0.46906765 0.49527772 0.10585215 0.09080897 0.25244853 0.61440934\n",
            "  0.54808226 0.38111652 0.06584091 0.52655413 0.45741476 0.84457467\n",
            "  0.54826698 0.03492956 0.44743179 0.46661305 0.35446135 0.57711748\n",
            "  0.7280714  0.83593237]\n",
            " [0.2515952  0.43467966 0.99915686 0.59873831 0.66833854 0.88462395\n",
            "  0.52507447 0.36222067 0.54969656 0.45472868 0.9600356  0.65525902\n",
            "  0.13947244 0.95886406 0.3451588  0.0782294  0.71086534 0.97154867\n",
            "  0.74412965 0.71439953]]\n",
            "\n",
            "開始進行預測...\n",
            "\u001b[1m1/1\u001b[0m \u001b[32m━━━━━━━━━━━━━━━━━━━━\u001b[0m\u001b[37m\u001b[0m \u001b[1m0s\u001b[0m 181ms/step\n",
            "原始預測結果 (機率分佈)：\n",
            "[[9.9998099e-01 1.8987934e-05]\n",
            " [9.9999171e-01 8.2364959e-06]\n",
            " [9.9998432e-01 1.5627280e-05]\n",
            " [9.9999636e-01 3.6248682e-06]\n",
            " [9.9999696e-01 2.9261910e-06]\n",
            " [9.9999064e-01 9.2777254e-06]\n",
            " [9.9999923e-01 7.5620284e-07]\n",
            " [9.9999684e-01 3.0975957e-06]\n",
            " [9.9996603e-01 3.3978773e-05]\n",
            " [9.9999845e-01 1.4996942e-06]]\n",
            "\n",
            "預測的類別標籤 (0 或 1)：\n",
            "[0 0 0 0 0 0 0 0 0 0]\n",
            "\n",
            "每個樣本的預測結果：\n",
            "  樣本 1: 預測機率 = [9.9998099e-01 1.8987934e-05], 預測類別 = 0\n",
            "  樣本 2: 預測機率 = [9.999917e-01 8.236496e-06], 預測類別 = 0\n",
            "  樣本 3: 預測機率 = [9.999843e-01 1.562728e-05], 預測類別 = 0\n",
            "  樣本 4: 預測機率 = [9.9999636e-01 3.6248682e-06], 預測類別 = 0\n",
            "  樣本 5: 預測機率 = [9.9999696e-01 2.9261910e-06], 預測類別 = 0\n",
            "  樣本 6: 預測機率 = [9.9999064e-01 9.2777254e-06], 預測類別 = 0\n",
            "  樣本 7: 預測機率 = [9.9999923e-01 7.5620284e-07], 預測類別 = 0\n",
            "  樣本 8: 預測機率 = [9.9999684e-01 3.0975957e-06], 預測類別 = 0\n",
            "  樣本 9: 預測機率 = [9.9996603e-01 3.3978773e-05], 預測類別 = 0\n",
            "  樣本 10: 預測機率 = [9.9999845e-01 1.4996942e-06], 預測類別 = 0\n"
          ]
        }
      ]
    }
  ]
}